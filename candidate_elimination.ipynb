{
  "nbformat": 4,
  "nbformat_minor": 0,
  "metadata": {
    "colab": {
      "provenance": [],
      "authorship_tag": "ABX9TyNwB2YueqNVydv9z4bm4dSW",
      "include_colab_link": true
    },
    "kernelspec": {
      "name": "python3",
      "display_name": "Python 3"
    },
    "language_info": {
      "name": "python"
    }
  },
  "cells": [
    {
      "cell_type": "markdown",
      "metadata": {
        "id": "view-in-github",
        "colab_type": "text"
      },
      "source": [
        "<a href=\"https://colab.research.google.com/github/Ravindra1289/machine-learning/blob/main/candidate_elimination.ipynb\" target=\"_parent\"><img src=\"https://colab.research.google.com/assets/colab-badge.svg\" alt=\"Open In Colab\"/></a>"
      ]
    },
    {
      "cell_type": "code",
      "execution_count": 11,
      "metadata": {
        "id": "qOk-51Eh68Ls",
        "colab": {
          "base_uri": "https://localhost:8080/"
        },
        "outputId": "62d3763c-aaa3-405e-bdc9-8f80563b296d"
      },
      "outputs": [
        {
          "output_type": "stream",
          "name": "stdout",
          "text": [
            "[['sunny' 'warm' 'normal' 'strong' 'warm' 'same']\n",
            " ['sunny' 'warm' 'high' 'strong' 'warm' 'same']\n",
            " ['rainy' 'cold' 'high' 'strong' 'warm' 'change']\n",
            " ['sunny' 'warm' 'high' 'strong' 'cool' 'change']]\n",
            "['yes' 'yes' 'no' 'yes']\n"
          ]
        }
      ],
      "source": [
        "import numpy as np\n",
        "import pandas as pd\n",
        "data=pd.read_csv('/content/data.csv')\n",
        "concepts=np.array(data.iloc[:,0:-1])\n",
        "target=np.array(data.iloc[:,-1])\n",
        "print(concepts)\n",
        "print(target)\n"
      ]
    },
    {
      "cell_type": "code",
      "source": [
        "def learn(concepts,target):\n",
        "    specific_h=concepts[0].copy ()\n",
        "    print(\"initialization of specific_h \\n,specific_h\")\n",
        "    general_h=[[\"?\" for i in range(len(specific_h))] for i in range(len(specific_h))]\n",
        "    print(\"initialization of general_h\\n\",general_h)\n",
        "    for i, h in enumerate(concepts):\n",
        "        if target[i]==\"yes\":\n",
        "            for x in range(len(specific_h)):\n",
        "                if h[x]!=specific_h[x]:\n",
        "                    specific_h[x]='?'\n",
        "                    general_h[x][x]='?'\n",
        "        if target[i]==\"no\":\n",
        "            for x in range(len(specific_h)):\n",
        "                if h[x]!=specific_h[x]:\n",
        "                    general_h[x][x]=specific_h[x]\n",
        "                else:\n",
        "                    general_h[x][x]='?'\n",
        "                    print(\"steps of candidate elimination algorithm\",i+1)\n",
        "        print(\"specific_h\",i+1,specific_h)\n",
        "        print(\"general_h\",i+1,general_h)\n",
        "        print(\"\\n\")\n",
        "        print(\"\\n\")\n",
        "    indices=[i for i, val in enumerate(general_h) if val==['?','?','?','?','?','?']]\n",
        "    for i in indices:\n",
        "        general_h.remove(['?','?','?','?','?','?'])\n",
        "    return specific_h,general_h\n",
        "s_final,g_final=learn(concepts,target)\n",
        "print(\"final specific_h:\",s_final,sep=\"\\n\")\n",
        "print(\"final general_h:\",g_final,sep=\"\\n\")"
      ],
      "metadata": {
        "colab": {
          "base_uri": "https://localhost:8080/"
        },
        "id": "tXbPUzHiHhbY",
        "outputId": "8898d10b-f42a-4b17-e8fc-5c565b099c0c"
      },
      "execution_count": 12,
      "outputs": [
        {
          "output_type": "stream",
          "name": "stdout",
          "text": [
            "initialization of specific_h \n",
            ",specific_h\n",
            "initialization of general_h\n",
            " [['?', '?', '?', '?', '?', '?'], ['?', '?', '?', '?', '?', '?'], ['?', '?', '?', '?', '?', '?'], ['?', '?', '?', '?', '?', '?'], ['?', '?', '?', '?', '?', '?'], ['?', '?', '?', '?', '?', '?']]\n",
            "specific_h 1 ['sunny' 'warm' 'normal' 'strong' 'warm' 'same']\n",
            "general_h 1 [['?', '?', '?', '?', '?', '?'], ['?', '?', '?', '?', '?', '?'], ['?', '?', '?', '?', '?', '?'], ['?', '?', '?', '?', '?', '?'], ['?', '?', '?', '?', '?', '?'], ['?', '?', '?', '?', '?', '?']]\n",
            "\n",
            "\n",
            "\n",
            "\n",
            "specific_h 2 ['sunny' 'warm' '?' 'strong' 'warm' 'same']\n",
            "general_h 2 [['?', '?', '?', '?', '?', '?'], ['?', '?', '?', '?', '?', '?'], ['?', '?', '?', '?', '?', '?'], ['?', '?', '?', '?', '?', '?'], ['?', '?', '?', '?', '?', '?'], ['?', '?', '?', '?', '?', '?']]\n",
            "\n",
            "\n",
            "\n",
            "\n",
            "steps of candidate elimination algorithm 3\n",
            "steps of candidate elimination algorithm 3\n",
            "specific_h 3 ['sunny' 'warm' '?' 'strong' 'warm' 'same']\n",
            "general_h 3 [['sunny', '?', '?', '?', '?', '?'], ['?', 'warm', '?', '?', '?', '?'], ['?', '?', '?', '?', '?', '?'], ['?', '?', '?', '?', '?', '?'], ['?', '?', '?', '?', '?', '?'], ['?', '?', '?', '?', '?', 'same']]\n",
            "\n",
            "\n",
            "\n",
            "\n",
            "specific_h 4 ['sunny' 'warm' '?' 'strong' '?' '?']\n",
            "general_h 4 [['sunny', '?', '?', '?', '?', '?'], ['?', 'warm', '?', '?', '?', '?'], ['?', '?', '?', '?', '?', '?'], ['?', '?', '?', '?', '?', '?'], ['?', '?', '?', '?', '?', '?'], ['?', '?', '?', '?', '?', '?']]\n",
            "\n",
            "\n",
            "\n",
            "\n",
            "final specific_h:\n",
            "['sunny' 'warm' '?' 'strong' '?' '?']\n",
            "final general_h:\n",
            "[['sunny', '?', '?', '?', '?', '?'], ['?', 'warm', '?', '?', '?', '?']]\n"
          ]
        }
      ]
    }
  ]
}